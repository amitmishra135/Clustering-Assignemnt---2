{
 "cells": [
  {
   "cell_type": "markdown",
   "id": "740443bf-312a-419a-b6c4-fc726da086fc",
   "metadata": {},
   "source": [
    "Q1. What is hierarchical clustering, and how is it different from other clustering techniques?\n",
    "\n",
    "Answer ->"
   ]
  },
  {
   "cell_type": "markdown",
   "id": "b8861ea3-4794-4485-a97f-2cf1b3d5c04a",
   "metadata": {},
   "source": [
    "Hierarchical clustering builds a tree-like structure of clusters (dendrogram) by successively merging or splitting clusters. It differs from other \n",
    "techniques as it does not require specifying the number of clusters in advance and provides a hierarchy of clusters."
   ]
  },
  {
   "cell_type": "markdown",
   "id": "54dad043-ee77-46c6-b825-436903f8c6ff",
   "metadata": {},
   "source": [
    "Q2. What are the two main types of hierarchical clustering algorithms? Describe each in brief.\n",
    "\n",
    "Answer ->"
   ]
  },
  {
   "cell_type": "raw",
   "id": "d4cc6c38-b56a-48c1-b86b-49ed02b70e6d",
   "metadata": {},
   "source": [
    "* Agglomerative (Bottom-Up): Starts with each data point as a separate cluster and iteratively merges the closest pairs of clusters until all points are in one cluster.\n",
    "* Divisive (Top-Down): Starts with all data points in a single cluster and recursively splits them into smaller clusters until each point is its own cluster."
   ]
  },
  {
   "cell_type": "code",
   "execution_count": null,
   "id": "9240c002-0e27-4053-8b6c-a613ccc79a2d",
   "metadata": {},
   "outputs": [],
   "source": [
    "Q3. How do you determine the distance between two clusters in hierarchical clustering, and what are the common distance metrics used?\n",
    "\n",
    "Answer ->"
   ]
  },
  {
   "cell_type": "markdown",
   "id": "1eb7c483-da76-4cb9-bbe8-c76eb2923dfe",
   "metadata": {},
   "source": [
    "* Single Linkage: Distance between the closest points in the clusters.\n",
    "* Complete Linkage: Distance between the farthest points in the clusters.\n",
    "* Average Linkage: Average distance between all points in the clusters.\n",
    "* Centroid Linkage: Distance between the centroids of the clusters.\n",
    "* Ward's Method: Minimizes the variance within clusters."
   ]
  },
  {
   "cell_type": "markdown",
   "id": "bc01d8ca-407d-49f2-843b-35f0b9e82b55",
   "metadata": {},
   "source": [
    "Q4. How do you determine the optimal number of clusters in hierarchical clustering, and what are some common methods used for this purpose?\n",
    "\n",
    "Answer ->"
   ]
  },
  {
   "cell_type": "markdown",
   "id": "a57d411d-f057-4a12-9c23-e50015451072",
   "metadata": {},
   "source": [
    "* Dendrogram Cutoff: Cutting the dendrogram at a certain height where a significant jump in distance between merged clusters occurs.\n",
    "* Inconsistency Coefficient: Analyzing the ratio of the height of a cluster to the average height of its sub-clusters."
   ]
  },
  {
   "cell_type": "markdown",
   "id": "dc762c2b-18b9-4c28-bf43-4e614807771a",
   "metadata": {},
   "source": [
    "Q5. What are dendrograms in hierarchical clustering, and how are they useful in analyzing the results?\n",
    "\n",
    "Answer ->"
   ]
  },
  {
   "cell_type": "markdown",
   "id": "0b8fc262-29bd-4969-9052-de3d725c4744",
   "metadata": {},
   "source": [
    "Dendrograms are tree diagrams that represent the arrangement of clusters formed by hierarchical clustering. They are useful for visualizing the nested \n",
    "structure of clusters, determining the number of clusters by cutting the tree at an appropriate level, and understanding the relationships between clusters."
   ]
  },
  {
   "cell_type": "markdown",
   "id": "7f9afc56-8a10-40da-8dd3-af9a8fa5cfcd",
   "metadata": {},
   "source": [
    "Q6. Can hierarchical clustering be used for both numerical and categorical data? If yes, how are the distance metrics different for each type of data?\n",
    "\n",
    "Answer ->"
   ]
  },
  {
   "cell_type": "markdown",
   "id": "d8c4d717-7dc3-421f-9289-b45a3b35fbe6",
   "metadata": {},
   "source": [
    "Yes, hierarchical clustering can be used for both types of data.\n",
    "\n",
    "* Numerical Data: Common distance metrics include Euclidean, Manhattan, and Minkowski distances.\n",
    "* Categorical Data: Distance metrics include Hamming distance and the Jaccard coefficient."
   ]
  },
  {
   "cell_type": "markdown",
   "id": "3936543e-393e-4e3a-8ed2-c13cfaa00fd1",
   "metadata": {},
   "source": [
    "Q7. How can you use hierarchical clustering to identify outliers or anomalies in your data?\n",
    "\n",
    "Answer ->"
   ]
  },
  {
   "cell_type": "markdown",
   "id": "2ec7355c-9b1c-499f-8de5-a609cf51e95d",
   "metadata": {},
   "source": [
    "Outliers can be identified as data points that form their own clusters at a very high level in the dendrogram or as points that are merged into clusters \n",
    "at a much higher distance compared to others. These points are far from the majority of the data."
   ]
  },
  {
   "cell_type": "code",
   "execution_count": null,
   "id": "5bef7c1d-86c5-4100-8f2b-1f8832046691",
   "metadata": {},
   "outputs": [],
   "source": []
  }
 ],
 "metadata": {
  "kernelspec": {
   "display_name": "Python 3 (ipykernel)",
   "language": "python",
   "name": "python3"
  },
  "language_info": {
   "codemirror_mode": {
    "name": "ipython",
    "version": 3
   },
   "file_extension": ".py",
   "mimetype": "text/x-python",
   "name": "python",
   "nbconvert_exporter": "python",
   "pygments_lexer": "ipython3",
   "version": "3.10.8"
  }
 },
 "nbformat": 4,
 "nbformat_minor": 5
}
